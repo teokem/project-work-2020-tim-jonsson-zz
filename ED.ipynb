{
 "cells": [
  {
   "cell_type": "markdown",
   "metadata": {},
   "source": [
    "# Project description\n",
    "\n",
    "The aim of this project is to visualize the quantum and classical ground state of a small magnetic system with the help of jupyter notebook. The idea of this project comes from my research work, treating the magnetic skyrmions quantum mechanically in a frustrated system with the Hamiltonian \n",
    "\\\\[H=-J_1\\sum_{<ij>}\\mathbf{S}_i\\cdot\\mathbf{S}_j+J_2\\sum_{\\ll ij\\gg}\\mathbf{S}_i\\cdot\\mathbf{S}_j-K\\sum_{<ij>}S_i^zS_j^z-B\\sum_iS_i^z\\\\]\n",
    "where $\\mathbf{S}_i$ is the spin operator of the ith site, $S_i^z$ specifies the $z-$direction component, $J_1$ is the nearest-neighbour ferromagnetic Heisenberg coupling strength, $J_2$ is the next-nearest-neighbour antiferromagnetic coupling strength, $K$ is the easy-axis anisotropy and $B$ is the external field.\n",
    "\n",
    "Finding the ground state of the given Hamiltonian with real system will take long computation time, thus in this project, system with small size (around 10 spin sites) is considered. After diagonalizing the Hamiltonian matrix with the `eigh` function from the `numpy.linalg` package, the expectation values of the spin operators $\\langle S_i^\\alpha\\rangle$ is calculated with the ground state. Then the quantum spins can be visualized by plotting the spin expectation values in 3D. The classical ground state, on the other hand, can also be calculated with energy variation method or classical Monte Carlo. The comparison of quantum and classical systems can be used in the teaching of matrix quantum mechanics and electromagnetism."
   ]
  },
  {
   "cell_type": "markdown",
   "metadata": {},
   "source": [
    "## Cell description:\n",
    "\n",
    "First we need to import some packages. `numpy` is generally used and `time` is used to monitor the speed of the diagonalization. `eigs` (and `eigsh`) functions are used to diagonalize sparse (and sparse Hermitian) matrices, using Lanczos algorithm. While `eig` (and `eigh`) functions are used to do full diagonalization. `eigs` and `eigsh` give part of the eigenvalues and save time when the Hamiltonian matrix is big and sparse."
   ]
  },
  {
   "cell_type": "code",
   "execution_count": 49,
   "metadata": {},
   "outputs": [],
   "source": [
    "import numpy as np\n",
    "import math\n",
    "import time"
   ]
  },
  {
   "cell_type": "code",
   "execution_count": 50,
   "metadata": {},
   "outputs": [],
   "source": [
    "from scipy.sparse.linalg import eigs, eigsh\n",
    "from numpy.linalg import eig, eigh"
   ]
  },
  {
   "cell_type": "markdown",
   "metadata": {},
   "source": [
    "## Cell description:\n",
    "\n",
    "The `cS` and `cSS` functions below is used to create the matrices corresponding to $S_i^\\alpha$ and $S_i^\\alpha S_j^\\beta$ operators. With the given number of sites $N$, the matrices will have the shape $2^N\\times 2^N$"
   ]
  },
  {
   "cell_type": "code",
   "execution_count": 51,
   "metadata": {},
   "outputs": [],
   "source": [
    "def cS(m,alpha,N):\n",
    "    'define the 1-spin operator S_m^alpha. The matrix representation is a 2**N-d square matrix.'\n",
    "    if m-1 in range(N):\n",
    "        sigma = np.empty([2,2,3], dtype=np.complex_)\n",
    "        sigma[:,:,0] = np.array([[0,1],[1,0]]) * 0.5\n",
    "        sigma[:,:,1] = np.array([[0,-1j],[1j,0]]) * 0.5\n",
    "        sigma[:,:,2] = np.array([[1,0],[0,-1]]) * 0.5\n",
    "        mat = np.empty([2,2,N], dtype=np.complex_)\n",
    "        for i in range(N):\n",
    "            mat[:,:,i] = np.eye(2)\n",
    "        mat[:,:,m-1] = sigma[:,:,alpha-1]\n",
    "        S = mat[:,:,0]\n",
    "        for i in range(1,N):\n",
    "            S = np.kron(S,mat[:,:,i])\n",
    "    else:\n",
    "        S = 0\n",
    "    return S    "
   ]
  },
  {
   "cell_type": "code",
   "execution_count": 52,
   "metadata": {},
   "outputs": [],
   "source": [
    "def cSS(m,alpha,n,beta,N):\n",
    "    'define the 2-spin operator S_m^alpha S_n^beta. The matrix representation is a 2**N-d square matrix.'\n",
    "    if (m-1 in range(N)) & (n-1 in range(N)):\n",
    "        sigma = np.empty([2,2,3], dtype=np.complex_)\n",
    "        sigma[:,:,0] = np.array([[0,1],[1,0]]) * 0.5\n",
    "        sigma[:,:,1] = np.array([[0,-1j],[1j,0]]) * 0.5\n",
    "        sigma[:,:,2] = np.array([[1,0],[0,-1]]) * 0.5\n",
    "        mat = np.empty([2,2,N], dtype=np.complex_)\n",
    "        for i in range(N):\n",
    "            mat[:,:,i] = np.eye(2)\n",
    "        if m == n:\n",
    "            mat[:,:,m-1] = np.matmul(sigma[:,:,alpha-1],sigma[:,:,beta-1])\n",
    "        else:\n",
    "            mat[:,:,m-1] = sigma[:,:,alpha-1]\n",
    "            mat[:,:,n-1] = sigma[:,:,beta-1]\n",
    "        S = mat[:,:,0]\n",
    "        for i in range(1,N):\n",
    "            S = np.kron(S,mat[:,:,i])\n",
    "    else:\n",
    "        S = 0\n",
    "    return S    "
   ]
  },
  {
   "cell_type": "markdown",
   "metadata": {},
   "source": [
    "## Cell description:\n",
    "\n",
    "The `Neighb_Label_rect` function below is used to define the rectangular lattice. For a $dx\\times dy=N$ lattice, the sites are labelled as\n",
    "\\\\[\n",
    "\\begin{array}{cccc}\n",
    " 1 & 2 & \\cdots & dx\\\\\n",
    " dx+1 & dx+2 & \\cdots & 2dx\\\\\n",
    " \\vdots & \\vdots & \\ddots & \\vdots\\\\\n",
    " N-dx+1 & N-dx+2 & \\cdots & N\n",
    "\\end{array}\n",
    "\\\\]\n",
    "The $(dx+2)$th site, for instance, has \n",
    "* 4 nearest neighbours (NN): {$dx+3,dx+1,2dx+2,2$} \n",
    "* and 4 next nearest neighbours (NNN): {$2dx+3,2dx+1,3,1$},\n",
    "\n",
    "while the 2nd site has only 3 NN sites and 2 NNN sites, if the open end boundary condition is considered. The `Neighb_Label_rect` function gives a matrix with 8 rows, corresponding to the labels of 4 NN sites and 4 NNN sites. Parameters *ipdX* and *ipdY* control if the periodic boundary condition if applied along the $x/y$ direction."
   ]
  },
  {
   "cell_type": "code",
   "execution_count": 53,
   "metadata": {},
   "outputs": [],
   "source": [
    "def Neighb_Label_rect(dx,dy,ipdX,ipdY):\n",
    "    '''\n",
    "    Define the label of the nearest neighbouring (NN) \n",
    "    and the next nearest neighbouring (NNN) sites on a rectangle lattice.\n",
    "    dx * dy defines the number of sites. \n",
    "    ipdX ,ipdY defines if the x/y direction has periodic boundary condition.\n",
    "    '''\n",
    "    nLabel = np.zeros([8,dx*dy], dtype = int) # the first four rows give the NN label\n",
    "                                              # in x+ x- y+ y- direction; xpyp xpym ypxm ymxm\n",
    "    NN = np.array([[1,3],[1,4],[2,3],[2,4]])  # the way of finding NNN\n",
    "    nLabel[0,0:dx*dy-dy] = np.linspace(1+dy,dx*dy,dx*dy-dy)\n",
    "    nLabel[1,dy:dx*dy] = np.linspace(1,dx*dy-dy,dx*dy-dy)\n",
    "    for i in range(1,dx*dy+1):\n",
    "        if i % dy:\n",
    "            nLabel[2,i-1] = i+1\n",
    "        if (i % dy) != 1:\n",
    "            nLabel[3,i-1] = i-1\n",
    "    if ipdX:\n",
    "        nLabel[0,dx*dy-dy:dx*dy] = np.linspace(1,dy,dy)\n",
    "        nLabel[1,0:dy] = np.linspace(dx*dy-dy+1,dx*dy,dy)\n",
    "    if ipdY:\n",
    "        for i in range(1,dx*dy+1):\n",
    "            if not(i % dy):\n",
    "                nLabel[2,i-1] = i+1-dy\n",
    "            if (i % dy) == 1:\n",
    "                nLabel[3,i-1] = i-1+dy\n",
    "    for i in range(1,dx*dy+1):\n",
    "        for j in range(4):\n",
    "            if nLabel[NN[j,0]-1,i-1]:\n",
    "                nLabel[j+4,i-1]=nLabel[NN[j,1]-1,nLabel[NN[j,0]-1,i-1]-1]\n",
    "    \n",
    "    return nLabel"
   ]
  },
  {
   "cell_type": "markdown",
   "metadata": {},
   "source": [
    "## Cell description:\n",
    "\n",
    "For hexgonal lattice, the neighbouring sites can be got with similar ideas. One site can have at most 6 NN and 6 NNN."
   ]
  },
  {
   "cell_type": "code",
   "execution_count": 54,
   "metadata": {},
   "outputs": [],
   "source": [
    "def Neighb_Label_hex(nl):\n",
    "    '''\n",
    "    Define the label of the nearest neighbouring (NN) \n",
    "    and the next nearest neighbouring (NNN) sites on a hexgonal lattice with open boundary condition.\n",
    "    nl in range(2,5) is the number of layers. nl * 6 +1 defines the number of sites. \n",
    "    '''\n",
    "    N = 6*nl+1\n",
    "    nLabel = np.zeros([12,N], dtype = int) # the first 6 rows give the NN label\n",
    "                                           # the second 6 rows give the NNN label\n",
    "    nCoord = Site_Coord_hex(nl)\n",
    "    nn_vector = np.array([[1,0],[0,1],[-1,1]])\n",
    "    nnn_vector = np.array([[1,1],[-1,2],[-2,1]])\n",
    "    \n",
    "    for i in range(N):\n",
    "        for j in range(3):\n",
    "            temp = nCoord[i,:] + nn_vector[j,:]                 # move from site i to its NN i'\n",
    "            if np.equal(nCoord,temp).all(axis=1).any():         # check if i' is in the lattice \n",
    "                nLabel[j,i] = np.where((nCoord == temp).all(axis=1))[0][0] + 1\n",
    "            temp = nCoord[i,:] - nn_vector[j,:]\n",
    "            if np.equal(nCoord,temp).all(axis=1).any():\n",
    "                nLabel[j+3,i] = np.where((nCoord == temp).all(axis=1))[0][0] + 1\n",
    "            temp2 = nCoord[i,:] + nnn_vector[j,:]                 # move from site i to its NN i'\n",
    "            if np.equal(nCoord,temp2).all(axis=1).any():         # check if i' is in the lattice \n",
    "                nLabel[j+6,i] = np.where((nCoord == temp2).all(axis=1))[0][0] + 1\n",
    "            temp2 = nCoord[i,:] - nnn_vector[j,:]\n",
    "            if np.equal(nCoord,temp2).all(axis=1).any():\n",
    "                nLabel[j+9,i] = np.where((nCoord == temp2).all(axis=1))[0][0] + 1\n",
    "    return nLabel"
   ]
  },
  {
   "cell_type": "markdown",
   "metadata": {},
   "source": [
    "## Cell description\n",
    "\n",
    "The following two functions are used to give the coordinates of the lattice sites, which can be used in the visualization."
   ]
  },
  {
   "cell_type": "code",
   "execution_count": 55,
   "metadata": {},
   "outputs": [],
   "source": [
    "def Site_Coord_rec(dx,dy):\n",
    "    '''\n",
    "    Define the coordinates of the sites on a rectangular lattice.\n",
    "    N = dx * dy defines the number of sites. \n",
    "    The basis vectors are e1 = [1, 0], e2 = [0, 1]\n",
    "    site 1 is put on the origin\n",
    "    '''\n",
    "    N = dx * dy\n",
    "    nCoord = np.zeros([N,2])\n",
    "    # center \n",
    "    cen_Coord = np.array([0,0])\n",
    "    cen = (1.0+N)/2\n",
    "    cx = (1.0+dx)/2\n",
    "    cy = (1.0+dy)/2\n",
    "    e1=np.array([1,0])\n",
    "    e2=np.array([0,1])\n",
    "    \n",
    "    for i in range(0,N):\n",
    "        ix=math.floor(i/dy)+1\n",
    "        iy=np.mod(i,dy)+1\n",
    "        nCoord[i,:]=e1*(iy-cy)+e2*(ix-cx)\n",
    "    \n",
    "    return nCoord"
   ]
  },
  {
   "cell_type": "code",
   "execution_count": 56,
   "metadata": {},
   "outputs": [],
   "source": [
    "def Site_Coord_hex(nl):\n",
    "    '''\n",
    "    Define the coordinates of the sites on a hexgonal lattice with open boundary condition.\n",
    "    nl in range(2,5) is the number of layers. N = nl * 6 +1 defines the number of sites. \n",
    "    The basis vectors are e1 = [0, 1], e2 = [sqrt 3 /2, 1/2]\n",
    "    site 1 is put on the origin\n",
    "    '''\n",
    "    N = nl * 6 + 1\n",
    "    nCoord = np.zeros([N,2])\n",
    "    # center site nCoord[0,:]=ap.array([0,0])\n",
    "    \n",
    "    # first layer, distance from center = 1\n",
    "    nCoord[1:7,:] = np.array([[i,j] for i in range(-1,2) for j in range(-1,2) if i-j])\n",
    "    \n",
    "    # second layer, distance from center = sqrt 3\n",
    "    if nl > 1:\n",
    "        nCoord[7:13,:] = np.array([[i,j] for i in [1,-1,2,-2] for j in [1,-1,2,-2] if i*j in [1,-2]])\n",
    "    \n",
    "    # third layer distance from center = 2\n",
    "    if nl > 2:\n",
    "        nCoord[13:19,:] = 2 * nCoord[1:7,:]\n",
    "    \n",
    "    return nCoord"
   ]
  },
  {
   "cell_type": "markdown",
   "metadata": {},
   "source": [
    "### Diagonalization\n",
    "\n",
    "The Hamiltonian matrix is input from collecting all the effective interactions. The diagonalization of the Hamiltonian matrix can be done with \n",
    "1. [scipy.sparse.linalg.eigsh](https://docs.scipy.org/doc/scipy-0.14.0/reference/generated/scipy.sparse.linalg.eigsh.html)\n",
    "2. [numpy.linalg.eigh](https://docs.scipy.org/doc/numpy/reference/generated/numpy.linalg.eigh.html#numpy.linalg.eigh)"
   ]
  },
  {
   "cell_type": "code",
   "execution_count": 57,
   "metadata": {},
   "outputs": [
    {
     "name": "stdout",
     "output_type": "stream",
     "text": [
      "Time used: 0.75\n"
     ]
    }
   ],
   "source": [
    "time_start = time.process_time()\n",
    "\n",
    "lat = 'hex'\n",
    "nx = 3\n",
    "ny = 3    \n",
    "nl = 1\n",
    "\n",
    "if lat == 'rect':\n",
    "    Ns = nx * ny\n",
    "    n_nei = 4    # number of NN on the center site\n",
    "    nb = Neighb_Label_rect(nx,ny,0,0)\n",
    "\n",
    "if lat == 'hex':\n",
    "    Ns = 6 * nl + 1\n",
    "    n_nei = 6\n",
    "    nb = Neighb_Label_hex(nl)\n",
    "\n",
    "J  = 1.\n",
    "J2 = -0.8\n",
    "h  = 0.1\n",
    "ani = 0.05\n",
    "Hmat = np.zeros([2**Ns,2**Ns], dtype=np.complex64)\n",
    "\n",
    "for i in range(1,Ns+1):\n",
    "    for j in range(n_nei):\n",
    "        for alpha in range(1,4):\n",
    "            if J != 0:                                            # NN\n",
    "                Hmat -= cSS(i,alpha,nb[j,i-1],alpha,Ns) * J\n",
    "            if J2 != 0:                                           # NNN\n",
    "                Hmat -= cSS(i,alpha,nb[j+n_nei,i-1],alpha,Ns) * J2\n",
    "        if ani != 0:                                              # anisotropy along z-direction\n",
    "            Hmat -= cSS(i,3,nb[j,i-1],3,Ns) * ani\n",
    "    if h != 0:                                                    # external field\n",
    "        Hmat -= cS(i,3,Ns) * h    \n",
    "\n",
    "#valsh, vecsh = eigsh(np.matrix(Hmat),k = 2, which = 'SA')          # diagonalization with Lanczos\n",
    "vals, vecs = eigh(Hmat)\n",
    "\n",
    "print(\"Time used: %.2f\" %(time.process_time()-time_start))\n"
   ]
  },
  {
   "cell_type": "markdown",
   "metadata": {},
   "source": [
    "### Calculation of the quantum ground state expectation values\n",
    "\n",
    "With the quantum ground state $|0\\rangle$, the expectation values can be calculated from \n",
    "\\\\[\\langle S_i^\\alpha\\rangle=\\langle 0|S_i^\\alpha|0\\rangle\\\\]"
   ]
  },
  {
   "cell_type": "code",
   "execution_count": 58,
   "metadata": {},
   "outputs": [],
   "source": [
    "gs = vecs[:,0]\n",
    "spEx = np.empty([3,Ns])\n",
    "for i in range(1,Ns+1):\n",
    "    for alpha in range(1,4):\n",
    "        spEx[alpha-1,i-1] = np.matmul(gs.T,np.dot(cS(i,alpha,Ns),gs)).real\n",
    "        if abs(spEx[alpha-1,i-1]) < 1e-6:\n",
    "            spEx[alpha-1,i-1]=0"
   ]
  },
  {
   "cell_type": "code",
   "execution_count": 59,
   "metadata": {},
   "outputs": [
    {
     "data": {
      "text/plain": [
       "array([[0.        , 0.        , 0.        , 0.        , 0.        ,\n",
       "        0.        , 0.        ],\n",
       "       [0.        , 0.        , 0.        , 0.        , 0.        ,\n",
       "        0.        , 0.        ],\n",
       "       [0.49997981, 0.26124151, 0.11009819, 0.12867043, 0.12867043,\n",
       "        0.11009818, 0.26124151]])"
      ]
     },
     "execution_count": 59,
     "metadata": {},
     "output_type": "execute_result"
    }
   ],
   "source": [
    "spEx"
   ]
  },
  {
   "cell_type": "markdown",
   "metadata": {},
   "source": [
    "The differences between full diagonalization and Lanczos algorithm can be compared."
   ]
  },
  {
   "cell_type": "code",
   "execution_count": 60,
   "metadata": {},
   "outputs": [
    {
     "name": "stdout",
     "output_type": "stream",
     "text": [
      "-4.698662\n",
      "-4.6986413\n"
     ]
    }
   ],
   "source": [
    "valsh, vecsh = eigsh(np.matrix(Hmat),k = 2, which = 'SA')\n",
    "\n",
    "vals, vecs = eigh(np.matrix(Hmat))\n",
    "\n",
    "print(valsh[0])\n",
    "print(vals[0])"
   ]
  },
  {
   "cell_type": "markdown",
   "metadata": {},
   "source": [
    "## Classical spins\n",
    "\n",
    "On the other hand, classical spin model can also be investigated. The `init_spin_rect` function is used to initialize the classical spins on a rectangular lattice. The classical spins have magitude $|S|=1$. The `make_en` function gives the energy of a certain spin configuration under classical interactions, which can be used in the later variation method or classical Monte Carlo calculations."
   ]
  },
  {
   "cell_type": "code",
   "execution_count": 61,
   "metadata": {},
   "outputs": [],
   "source": [
    "def init_spin_rect(dx,dy):\n",
    "    '''\n",
    "    Initialize the classical spins on a dx * dy rectangle lattice with classical spin |S| = 1.\n",
    "    The orientations of the spins are randomly distributed.\n",
    "    '''\n",
    "    N = dx * dy\n",
    "    spin0 = np.random.rand(3,N) * 2 -1\n",
    "    norm = (spin0 * spin0).sum(0)**0.5\n",
    "    spin0 /= norm\n",
    "    return spin0"
   ]
  },
  {
   "cell_type": "code",
   "execution_count": 62,
   "metadata": {},
   "outputs": [],
   "source": [
    "def make_en(spin,neib,cp):\n",
    "    '''calculate the energy of a given classical configuration (defined with spins and neighbouring labels)\n",
    "    under coupling interactions (J, J2, h, ani)'''\n",
    "    J = cp[0]\n",
    "    J2 = cp[1]\n",
    "    h = cp[2]\n",
    "    ani = cp[3]\n",
    "    en = 0\n",
    "    for i in range(spin.shape[1]):\n",
    "        for j in range(4):\n",
    "            for alpha in range(3):\n",
    "                if J:\n",
    "                    en -= J * spin[alpha,i] * spin[alpha,neib[j,i]-1]\n",
    "                if J2:\n",
    "                    en -= J2 * spin[alpha,i] * spin[alpha+4,neib[j,i]-1]\n",
    "            if ani:\n",
    "                en -= ani * spin[2,i] * spin[2,neib[j,i]-1]\n",
    "        if h:\n",
    "            en -= h * spin[2,i]\n",
    "    return en"
   ]
  },
  {
   "cell_type": "markdown",
   "metadata": {},
   "source": [
    "## Visualization\n",
    "\n",
    "To plot the classical or quantum spins, packages `matplotlib.pyplot` and `Axes3D` are imported. With the spin values and the coordinates of the lattice sites, the spin texture can be visualized."
   ]
  },
  {
   "cell_type": "code",
   "execution_count": 63,
   "metadata": {},
   "outputs": [],
   "source": [
    "import matplotlib.pyplot as plt\n",
    "from mpl_toolkits.mplot3d import Axes3D\n",
    "\n",
    "import matplotlib.cm as cm\n",
    "from matplotlib.colors import Normalize"
   ]
  },
  {
   "cell_type": "markdown",
   "metadata": {},
   "source": [
    "### The cell below shows a random initial classical spins on a $3\\times3$ square lattice."
   ]
  },
  {
   "cell_type": "code",
   "execution_count": 66,
   "metadata": {},
   "outputs": [
    {
     "data": {
      "image/png": "[encoded data removed]",
      "text/plain": [
       "<Figure size 432x288 with 1 Axes>"
      ]
     },
     "metadata": {
      "needs_background": "light"
     },
     "output_type": "display_data"
    }
   ],
   "source": [
    "%matplotlib inline\n",
    "\n",
    "u,v,w = init_spin_rect(3,3)\n",
    "\n",
    "fig = plt.figure()\n",
    "ax = fig.add_subplot(111, projection='3d')\n",
    "\n",
    "X = Site_Coord_rec(3,3)[:,0]\n",
    "Y = Site_Coord_rec(3,3)[:,1]\n",
    "\n",
    "\n",
    "ax.quiver(X, Y, np.zeros([1,9]),u, v, w,pivot='middle')\n",
    "ax.set_zlim(-1,1)\n",
    "\n",
    "plt.show()"
   ]
  },
  {
   "cell_type": "markdown",
   "metadata": {},
   "source": [
    "### The cell below plots the ground states of quantum spins on a 7-site hexgonal lattice"
   ]
  },
  {
   "cell_type": "code",
   "execution_count": 67,
   "metadata": {
    "scrolled": true
   },
   "outputs": [
    {
     "data": {
      "image/png": "[encoded data removed]",
      "text/plain": [
       "<Figure size 432x288 with 1 Axes>"
      ]
     },
     "metadata": {
      "needs_background": "light"
     },
     "output_type": "display_data"
    }
   ],
   "source": [
    "fig = plt.figure()\n",
    "ax = fig.add_subplot(111, projection='3d')\n",
    "\n",
    "\n",
    "X = Site_Coord_hex(1)[:,1]*np.sqrt(3)/2\n",
    "Y = Site_Coord_hex(1)[:,0]+Site_Coord_hex(1)[:,1]/2\n",
    "Z = np.zeros([1,7])\n",
    "norm = Normalize()\n",
    "norm.autoscale([-0.5,0.5])\n",
    "colormap=cm.jet\n",
    "ax.quiver(X, Y, Z, spEx[0,:], spEx[1,:], spEx[2,:],pivot='middle',color=colormap(norm(spEx[2,:])))\n",
    "ax.set_zlim(-0.5, 0.5)\n",
    "plt.show()"
   ]
  },
  {
   "cell_type": "markdown",
   "metadata": {},
   "source": [
    "# Conclusion\n",
    "\n",
    "In this project, jupyter notebook is used to do exact diagonalization on a small quantum magntic system, with adjustable coupling strengths. The quantum ground states can be visualized with 3D plotting, which can be used as a tool in the teaching of quantum mechanics and electromagnetism.\n",
    "\n",
    "## To be improved:\n",
    "\n",
    "The possibility of using widgets to control the coupling strengths or lattice geometry was considered but not realized. I will try to add this function into the current program to make it more user-friendly."
   ]
  }
 ],
 "metadata": {
  "kernelspec": {
   "display_name": "Python 3",
   "language": "python",
   "name": "python3"
  },
  "language_info": {
   "codemirror_mode": {
    "name": "ipython",
    "version": 3
   },
   "file_extension": ".py",
   "mimetype": "text/x-python",
   "name": "python",
   "nbconvert_exporter": "python",
   "pygments_lexer": "ipython3",
   "version": "3.6.7"
  }
 },
 "nbformat": 4,
 "nbformat_minor": 4
}
